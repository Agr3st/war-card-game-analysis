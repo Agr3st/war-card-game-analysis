{
 "cells": [
  {
   "cell_type": "markdown",
   "id": "3a09ab2a-6e28-42f2-9b9b-f6828472943f",
   "metadata": {},
   "source": [
    "# War card game analysis\n",
    "Assumptions:\n",
    "- if there are n players, then there every player gets *(52 mod n)* cards and there are *(52 mod n) * n* cards in game\n",
    "- non-playing cards are chosen from the lowest ones\n",
    "- if there is a war and a player is out of cards (therefore can't continue the war) that player loses \n",
    "\n",
    "e.g. if there are n = 3 players:\n",
    "- num_of_cards_per_player = 52 mod 3 = 17\n",
    "- num_of_cards_in_game = 17 * 3 = 51\n",
    "- deck = [2, 3, 3, 3, 3, 4, ...]\n",
    "\n",
    "Steps:\n",
    "1. Defining deck of cards and card values\n",
    "2. Defining variables for analysis: numer of rounds ...\n",
    "3. N simulations:\n",
    "    - shuffling cards and assigning them to n players (1 stack for hand and 1 stack for side cards)\n",
    "    - N loops:\n",
    "        1. move - comparison card values\n",
    "        2. if war, then: 1st move without comparison, 2nd move with comparison (check condition again - recurency)\n",
    "        3. add cards from the move to winner's side cards stack\n",
    "        4. if one of the players has all cards, then stop\n",
    "4. Analysis ..."
   ]
  },
  {
   "cell_type": "code",
   "execution_count": 2,
   "id": "cde85700-1730-483c-a323-4971a0567a0b",
   "metadata": {},
   "outputs": [],
   "source": [
    "# libraries\n",
    "import pandas as pd\n",
    "import numpy as np\n",
    "import ipywidgets as widgets"
   ]
  },
  {
   "cell_type": "markdown",
   "id": "bcf274e9-96f0-4a06-89b6-0d1d1c252513",
   "metadata": {},
   "source": [
    "## Simulations"
   ]
  },
  {
   "cell_type": "code",
   "execution_count": 26,
   "id": "4d4a7c84-9bf4-47ff-97aa-fa803f4e42f1",
   "metadata": {},
   "outputs": [
    {
     "name": "stdout",
     "output_type": "stream",
     "text": [
      "[2, 3, 4, 5, 6, 7, 8, 9, 10, 11, 12, 13, 14]\n",
      "[2, 2, 2, 2, 3, 3, 3, 3, 4, 4, 4, 4, 5, 5, 5, 5, 6, 6, 6, 6, 7, 7, 7, 7, 8, 8, 8, 8, 9, 9, 9, 9, 10, 10, 10, 10, 11, 11, 11, 11, 12, 12, 12, 12, 13, 13, 13, 13, 14, 14, 14, 14]\n"
     ]
    }
   ],
   "source": [
    "# Defining deck of cards and card values\n",
    "\"\"\"\n",
    "Jack = 11\n",
    "Queen = 12\n",
    "King = 13\n",
    "Ace = 14\n",
    "\"\"\"\n",
    "card_values = list(range(2, 15))\n",
    "deck = list(4 * card_values)\n",
    "deck.sort()\n",
    "\n",
    "print(card_values)\n",
    "print(deck)"
   ]
  },
  {
   "cell_type": "code",
   "execution_count": 62,
   "id": "cfcbef99-7487-4360-9a8b-7dd837949a9a",
   "metadata": {},
   "outputs": [],
   "source": [
    "output_widget = widgets.Output(layout=widgets.Layout(width='100%', height='500px', overflow_y='auto')) # for printing simulation text"
   ]
  },
  {
   "cell_type": "code",
   "execution_count": 64,
   "id": "8fa49af5-6448-4766-a6a0-7b1d80aeea9a",
   "metadata": {},
   "outputs": [],
   "source": [
    "def check_hands(players):\n",
    "    # if hand is empty\n",
    "    for i, player in enumerate(players):\n",
    "        if not player['hand']:\n",
    "            if player['side']:\n",
    "                # shuffle side cards and move them to the hand\n",
    "                np.random.shuffle(player['side'])\n",
    "                player['hand'], player['side'] = player['side'], []\n",
    "            else:\n",
    "                # delete player who lost (has no cards at all)\n",
    "                players.pop(i)"
   ]
  },
  {
   "cell_type": "code",
   "execution_count": 66,
   "id": "0ae5f156-e5eb-4090-a159-5a03af113ae1",
   "metadata": {},
   "outputs": [],
   "source": [
    "def make_move(players, cards_for_side, print_cards=True, ignore_values=False):\n",
    "    \"\"\"\n",
    "    players: list of players with hands and sides\n",
    "    cards_for_side: list of cards accumulated in the round that will be added to winner's side cards\n",
    "    ignore_values: used in war for cards that are reversed and their values are not taken into account\n",
    "    return: True if game over, else False\n",
    "\n",
    "    Note: works only for 2 players for now!\n",
    "    \"\"\"\n",
    "    \n",
    "    check_hands(players)\n",
    "    if len(players) <= 1:\n",
    "        return True\n",
    "        \n",
    "    # rozgrywka dla na razie 2 graczy\n",
    "    player_1_card = players[0]['hand'].pop(0)\n",
    "    player_2_card = players[1]['hand'].pop(0)\n",
    "    if print_cards:\n",
    "        with output_widget:\n",
    "            print(player_1_card, end=\"\\t\")\n",
    "            print(player_2_card)\n",
    "    cards_for_side += [player_1_card, player_2_card]\n",
    "\n",
    "    if ignore_values:\n",
    "        with output_widget:\n",
    "            print(\"(above cards are reversed)\")\n",
    "        make_move(players, cards_for_side, print_cards, False)\n",
    "    else:\n",
    "        if player_1_card > player_2_card:\n",
    "            players[0]['side'] += cards_for_side\n",
    "        elif player_1_card < player_2_card:\n",
    "            players[1]['side'] += cards_for_side\n",
    "        else:\n",
    "            if print_cards:\n",
    "                with output_widget:\n",
    "                    print(\"WAAAAR!!!!!\")\n",
    "            make_move(players, cards_for_side, print_cards, True)"
   ]
  },
  {
   "cell_type": "code",
   "execution_count": 70,
   "id": "315ab77b-7f4f-4c7a-94fe-e0411d55f790",
   "metadata": {},
   "outputs": [],
   "source": [
    "def war_card_game_simulation(N, players_number):\n",
    "    # variables for analysis\n",
    "    rounds_in_each_simulation = []\n",
    "    num_of_cards_in_game = 52 // players_number * players_number\n",
    "    num_of_cards_per_player = num_of_cards_in_game // players_number\n",
    "    \n",
    "    # simulations\n",
    "    for i in range(N):\n",
    "        \n",
    "        if i == 0: # print only first simulation\n",
    "            with output_widget:\n",
    "                print(f\"------------------------------------------------ {i+1}. SIMULATION ------------------------------------------------\")\n",
    "        \n",
    "        game_over = False\n",
    "        iter = 0\n",
    "        players = [ {'hand': [], 'side': []} for _ in range(players_number) ]\n",
    "        \n",
    "        # shuffling cards \n",
    "        shuffled_deck = deck.copy()\n",
    "        shuffled_deck = deck[52-num_of_cards_in_game:]\n",
    "        np.random.shuffle(shuffled_deck)\n",
    "\n",
    "        # assign cards to players' hands\n",
    "        for j, player in enumerate(players):\n",
    "            player['hand'] = shuffled_deck[:num_of_cards_per_player]\n",
    "            shuffled_deck = shuffled_deck[num_of_cards_per_player:]\n",
    "            if i == 0:\n",
    "                with output_widget:\n",
    "                    print(f\"{iter}: player{j+1}\\nhand: {player['hand']}\\nside: {player['side']}\")\n",
    "        if i == 0:\n",
    "            with output_widget:\n",
    "                print()\n",
    "            \n",
    "        # game until someone wins\n",
    "        max_iter = 10000\n",
    "        print_cards = i == 0\n",
    "        while not game_over:\n",
    "            game_over = make_move(players, [], print_cards)\n",
    "            iter += 1\n",
    "\n",
    "            if i == 0:\n",
    "                for j, player in enumerate(players):\n",
    "                    with output_widget:\n",
    "                        print(f\"{iter}: player{j+1}\\nhand: {player['hand']}\\nside:{player['side']}\") \n",
    "                with output_widget:\n",
    "                    print()\n",
    "\n",
    "            max_iter -= 1\n",
    "            if max_iter <= 0:\n",
    "                break\n",
    "                \n",
    "        rounds_in_each_simulation.append(iter-1)\n",
    "        \n",
    "    return rounds_in_each_simulation"
   ]
  },
  {
   "cell_type": "code",
   "execution_count": 82,
   "id": "5d8ca4d5-6851-493a-b957-06ec3b28bf3d",
   "metadata": {},
   "outputs": [],
   "source": [
    "rounds_in_100_simulations = war_card_game_simulation(N = 1, players_number = 2)"
   ]
  },
  {
   "cell_type": "code",
   "execution_count": 84,
   "id": "3c03e8b6-9add-43ec-a4bb-3a6d7ddb1055",
   "metadata": {},
   "outputs": [
    {
     "data": {
      "application/vnd.jupyter.widget-view+json": {
       "model_id": "15cd9fc2867a41aa848b6743a83a6c86",
       "version_major": 2,
       "version_minor": 0
      },
      "text/plain": [
       "Output(layout=Layout(height='500px', overflow_y='auto', width='100%'), outputs=({'name': 'stdout', 'text': '--…"
      ]
     },
     "metadata": {},
     "output_type": "display_data"
    }
   ],
   "source": [
    "display(output_widget)"
   ]
  },
  {
   "cell_type": "code",
   "execution_count": 86,
   "id": "a8ed3889-cb79-40ce-8723-b56ba43d9a71",
   "metadata": {},
   "outputs": [
    {
     "name": "stdout",
     "output_type": "stream",
     "text": [
      "[178]\n"
     ]
    }
   ],
   "source": [
    "print(rounds_in_100_simulations)"
   ]
  },
  {
   "cell_type": "code",
   "execution_count": null,
   "id": "38b8f5e4-4729-4b07-8168-f3eae6e8d757",
   "metadata": {},
   "outputs": [],
   "source": []
  }
 ],
 "metadata": {
  "kernelspec": {
   "display_name": "Python 3 (ipykernel)",
   "language": "python",
   "name": "python3"
  },
  "language_info": {
   "codemirror_mode": {
    "name": "ipython",
    "version": 3
   },
   "file_extension": ".py",
   "mimetype": "text/x-python",
   "name": "python",
   "nbconvert_exporter": "python",
   "pygments_lexer": "ipython3",
   "version": "3.12.4"
  }
 },
 "nbformat": 4,
 "nbformat_minor": 5
}

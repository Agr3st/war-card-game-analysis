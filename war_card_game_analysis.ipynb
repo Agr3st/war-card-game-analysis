{
 "cells": [
  {
   "cell_type": "markdown",
   "id": "3a09ab2a-6e28-42f2-9b9b-f6828472943f",
   "metadata": {},
   "source": [
    "# War card game analysis\n",
    "Assumptions:\n",
    "- if there are n players, then every player gets *(52 mod n)* cards and there are *(52 mod n) * n* cards in game\n",
    "- non-playing cards are chosen from the lowest ones\n",
    "- if there is a war and a player is out of cards (therefore can't continue the war), that player loses\n",
    "- if a player has no cards in a hand but has in the side stack, then cards from the side stack will be shuffled and added to player's hand\n",
    "- if a war occurs it is still counted as 1 move (no matter how long the war lasts).\n",
    "\n",
    "e.g. if there are n = 3 players:\n",
    "- num_of_cards_per_player = 52 mod 3 = 17\n",
    "- num_of_cards_in_game = 17 * 3 = 51\n",
    "- deck = [2, 3, 3, 3, 3, 4, ...]"
   ]
  },
  {
   "cell_type": "markdown",
   "id": "bcf274e9-96f0-4a06-89b6-0d1d1c252513",
   "metadata": {},
   "source": [
    "## Simulations"
   ]
  },
  {
   "cell_type": "code",
   "execution_count": 18,
   "id": "cde85700-1730-483c-a323-4971a0567a0b",
   "metadata": {},
   "outputs": [],
   "source": [
    "# libraries\n",
    "import pandas as pd\n",
    "import ipywidgets as widgets\n",
    "from tqdm import tqdm"
   ]
  },
  {
   "cell_type": "code",
   "execution_count": 20,
   "id": "4d4a7c84-9bf4-47ff-97aa-fa803f4e42f1",
   "metadata": {},
   "outputs": [
    {
     "name": "stdout",
     "output_type": "stream",
     "text": [
      "[2, 2, 2, 2, 3, 3, 3, 3, 4, 4, 4, 4, 5, 5, 5, 5, 6, 6, 6, 6, 7, 7, 7, 7, 8, 8, 8, 8, 9, 9, 9, 9, 10, 10, 10, 10, 11, 11, 11, 11, 12, 12, 12, 12, 13, 13, 13, 13, 14, 14, 14, 14]\n"
     ]
    }
   ],
   "source": [
    "# Defining deck of cards and card values\n",
    "\"\"\"\n",
    "Jack = 11\n",
    "Queen = 12\n",
    "King = 13\n",
    "Ace = 14\n",
    "\"\"\"\n",
    "card_values = list(range(2, 15))\n",
    "deck = list(4 * card_values)\n",
    "deck.sort()\n",
    "\n",
    "print(deck)"
   ]
  },
  {
   "cell_type": "code",
   "execution_count": 22,
   "id": "8fa49af5-6448-4766-a6a0-7b1d80aeea9a",
   "metadata": {},
   "outputs": [],
   "source": [
    "def check_hands(players):\n",
    "    to_remove = []\n",
    "    \n",
    "    for i, player in enumerate(players):\n",
    "        \n",
    "        # if hand is empty\n",
    "        if len(player['hand']) < 1:\n",
    "            \n",
    "            if len(player['side']) > 0:\n",
    "                # shuffle side cards and move them to the hand\n",
    "                np.random.shuffle(player['side'])\n",
    "                player['hand'], player['side'] = player['side'], []\n",
    "            else:\n",
    "                # save index of player who lost (has no cards at all)\n",
    "                to_remove.append(i)\n",
    "\n",
    "    # remove players who lost\n",
    "    for i in reversed(to_remove):\n",
    "        players.pop(i)"
   ]
  },
  {
   "cell_type": "code",
   "execution_count": 24,
   "id": "25c481d2-bc68-466f-8504-f276951c1a78",
   "metadata": {},
   "outputs": [],
   "source": [
    "def make_move(players, cards_for_side, print_cards=True, ignore_values=False, wars_number=0):\n",
    "    \"\"\"\n",
    "    players: list of players with hands and sides (or list of players who take part in a war)\n",
    "    cards_for_side: list of cards accumulated in the round that will be added to winner's side cards\n",
    "    ignore_values: used in war for cards that are reversed and their values are not taken into account\n",
    "    return: True if game over, else False\n",
    "    \"\"\"\n",
    "    \n",
    "    check_hands(players)\n",
    "    if len(players) <= 1:\n",
    "        return True, wars_number\n",
    "\n",
    "    # throw cards\n",
    "    players_cards = []\n",
    "    for player in players:\n",
    "        players_cards.append(player['hand'].pop(0))\n",
    "\n",
    "    # uncomment to print output\n",
    "    \"\"\"\n",
    "    if print_cards:\n",
    "        with output_widget:\n",
    "            for card in players_cards:\n",
    "                print(card, end=\"\\t\")\n",
    "            print()\n",
    "    \"\"\"\n",
    "    cards_for_side += players_cards\n",
    "\n",
    "    # war: thrown cards are reversed, now throw cards whose values count\n",
    "    if ignore_values:\n",
    "\n",
    "        # uncomment to print output\n",
    "        \"\"\"\n",
    "        with output_widget:\n",
    "            print(\"(above cards are reversed)\")\n",
    "        \"\"\"\n",
    "        make_move(players, cards_for_side, print_cards, False, wars_number)\n",
    "        \n",
    "    # war: thrown cards' values count, now throw reversed cards\n",
    "    # no war: choose the winner and add accumulated cards to his side\n",
    "    else:\n",
    "        max_card_value = max(players_cards)\n",
    "            \n",
    "        # war\n",
    "        if players_cards.count(max_card_value) > 1:\n",
    "            # find and save indexes of players who have a war\n",
    "            wars_number += 1\n",
    "            players_with_highest_cards = [i for i, value in enumerate(players_cards) if value == max_card_value]\n",
    "            players_on_war = [players[i] for i in players_with_highest_cards]\n",
    "\n",
    "            # uncomment to print output\n",
    "            \"\"\"\n",
    "            if print_cards:\n",
    "                with output_widget:\n",
    "                    print(\"players on war: \", end=\"\")\n",
    "                    print([x+1 for x in players_with_highest_cards])\n",
    "                    print(\"WAAAAR!!!!\")\n",
    "            \"\"\"\n",
    "            \n",
    "            # war between specific players\n",
    "            make_move(players_on_war, cards_for_side, print_cards, True, wars_number)\n",
    "            \n",
    "        # no war\n",
    "        else:\n",
    "            winner_index = players_cards.index(max_card_value)\n",
    "            players[winner_index]['side'] += cards_for_side\n",
    "    \n",
    "    return False, wars_number"
   ]
  },
  {
   "cell_type": "code",
   "execution_count": 26,
   "id": "14496575-2bce-40ea-9ded-cc4df3dd5a68",
   "metadata": {},
   "outputs": [],
   "source": [
    "def deal_cards(players_number, seed=1):\n",
    "    num_of_cards_in_game = 52 // players_number * players_number\n",
    "    num_of_cards_per_player = num_of_cards_in_game // players_number\n",
    "\n",
    "    players = [ {'hand': [], 'side': []} for _ in range(players_number) ]\n",
    "        \n",
    "    # shuffle cards \n",
    "    shuffled_deck = deck.copy()\n",
    "    shuffled_deck = deck[52-num_of_cards_in_game:]\n",
    "    np.random.seed(seed)\n",
    "    np.random.shuffle(shuffled_deck)\n",
    "\n",
    "    # deal cards to players\n",
    "    for j, player in enumerate(players):\n",
    "        player['hand'] = shuffled_deck[:num_of_cards_per_player]\n",
    "        shuffled_deck = shuffled_deck[num_of_cards_per_player:]\n",
    "        # uncomment to print output\n",
    "        \"\"\"\n",
    "        with output_widget:\n",
    "            print(f\"start state: player{j+1}\\nhand: {player['hand']}\\nside: {player['side']}\")\n",
    "        with output_widget:\n",
    "            print()\n",
    "        \"\"\"\n",
    "        \n",
    "    return players"
   ]
  },
  {
   "cell_type": "code",
   "execution_count": 32,
   "id": "315ab77b-7f4f-4c7a-94fe-e0411d55f790",
   "metadata": {},
   "outputs": [],
   "source": [
    "def war_card_game_simulation(N, players_number, start_seed=1):\n",
    "    # variables\n",
    "    rounds_in_each_simulation = []\n",
    "    wars_in_each_simulation = []\n",
    "    \n",
    "    # simulations\n",
    "    for i in tqdm(range(N)):\n",
    "        # uncomment to print output\n",
    "        \"\"\"\n",
    "        if i == 0: # print only first simulation\n",
    "            with output_widget:\n",
    "                print(f\"-------------------- {i+1}. SIMULATION ------------------------------\")\n",
    "        \"\"\"\n",
    "        \n",
    "        players = deal_cards(players_number, seed=start_seed+i)\n",
    "        game_over = False\n",
    "        iter = 0\n",
    "        print_cards = i == 0\n",
    "        wars_number_in_game = 0\n",
    "            \n",
    "        # game until someone wins\n",
    "        while not game_over:\n",
    "            game_over, wars_number_in_round = make_move(players, [], print_cards)\n",
    "            iter += 1\n",
    "            wars_number_in_game += wars_number_in_round\n",
    "            # uncomment to print output\n",
    "            \"\"\"\n",
    "            if i == 0:\n",
    "                with output_widget:\n",
    "                    print(f\"after {iter}. round:\")\n",
    "                    for j, player in enumerate(players):    \n",
    "                        print(f\"player{j+1}\\nhand: {player['hand']}\\nside:{player['side']}\") \n",
    "                    print()\n",
    "            \"\"\"\n",
    "        rounds_in_each_simulation.append(iter-1)\n",
    "        wars_in_each_simulation.append(wars_number_in_game)\n",
    "        \n",
    "    return rounds_in_each_simulation, wars_in_each_simulation"
   ]
  },
  {
   "cell_type": "markdown",
   "id": "6cd2571d-5623-43b4-865d-d90f0d20bd40",
   "metadata": {},
   "source": [
    "### Example simulation output\n",
    "To print simulation output you need to delete comments in above functions."
   ]
  },
  {
   "cell_type": "code",
   "execution_count": 60,
   "id": "cfcbef99-7487-4360-9a8b-7dd837949a9a",
   "metadata": {},
   "outputs": [],
   "source": [
    "output_widget = widgets.Output(layout=widgets.Layout(width='100%', height='500px', overflow_y='auto'))\n",
    "exapmle_to_print = war_card_game_simulation(N = 1, players_number = 3, start_seed=2)\n",
    "display(output_widget)"
   ]
  },
  {
   "cell_type": "markdown",
   "id": "b04ba44d-fba5-492f-bdcc-4171ac0f96c1",
   "metadata": {},
   "source": [
    "### Run simulations"
   ]
  },
  {
   "cell_type": "code",
   "execution_count": 34,
   "id": "8255d990-2af8-488a-8af8-94b977e0bd60",
   "metadata": {},
   "outputs": [
    {
     "name": "stderr",
     "output_type": "stream",
     "text": [
      "100%|██████████| 100000/100000 [00:53<00:00, 1859.39it/s]"
     ]
    },
    {
     "name": "stdout",
     "output_type": "stream",
     "text": [
      "[325, 192, 1054, 178, 298, 707, 132, 1117, 101, 140]\n",
      "100000\n",
      "[15, 11, 65, 16, 19, 43, 7, 74, 10, 8]\n",
      "100000\n"
     ]
    },
    {
     "name": "stderr",
     "output_type": "stream",
     "text": [
      "\n"
     ]
    }
   ],
   "source": [
    "rounds_in_100_000_simulations_2_players, wars_in_100_000_simulations_2_players = war_card_game_simulation(N = 100000, players_number = 2, start_seed=123)\n",
    "\n",
    "# check result\n",
    "print(rounds_in_100_000_simulations_2_players[:10])\n",
    "print(len(rounds_in_100_000_simulations_2_players))\n",
    "print(wars_in_100_000_simulations_2_players[:10])\n",
    "print(len(wars_in_100_000_simulations_2_players))"
   ]
  },
  {
   "cell_type": "code",
   "execution_count": 36,
   "id": "8c25205b-73ad-4561-97ea-fe6bfae136e9",
   "metadata": {
    "scrolled": true
   },
   "outputs": [
    {
     "name": "stderr",
     "output_type": "stream",
     "text": [
      "100%|██████████| 100000/100000 [00:52<00:00, 1897.50it/s]\n"
     ]
    }
   ],
   "source": [
    "rounds_in_100_000_simulations_3_players, wars_in_100_000_simulations_3_players = war_card_game_simulation(N = 100000, players_number = 3, start_seed=123)"
   ]
  },
  {
   "cell_type": "code",
   "execution_count": 38,
   "id": "385a8266-2585-4a48-b76a-d91b4a9a96b8",
   "metadata": {},
   "outputs": [
    {
     "name": "stderr",
     "output_type": "stream",
     "text": [
      "100%|██████████| 100000/100000 [00:55<00:00, 1808.37it/s]\n"
     ]
    }
   ],
   "source": [
    "rounds_in_100_000_simulations_4_players, wars_in_100_000_simulations_4_players = war_card_game_simulation(N = 100000, players_number = 4, start_seed=123)"
   ]
  },
  {
   "cell_type": "code",
   "execution_count": 39,
   "id": "fb89b580-7a66-407d-8b13-f4e40b3e7eb3",
   "metadata": {},
   "outputs": [
    {
     "name": "stderr",
     "output_type": "stream",
     "text": [
      "100%|██████████| 100000/100000 [00:49<00:00, 2019.48it/s]\n"
     ]
    }
   ],
   "source": [
    "rounds_in_100_000_simulations_5_players, wars_in_100_000_simulations_5_players = war_card_game_simulation(N = 100000, players_number = 5, start_seed=123)"
   ]
  },
  {
   "cell_type": "markdown",
   "id": "cc0acf0f-3c03-49a3-82bf-f658ec62e795",
   "metadata": {},
   "source": [
    "### Save results to files"
   ]
  },
  {
   "cell_type": "code",
   "execution_count": 55,
   "id": "fed49b42-8aaa-4414-b400-084041b00be2",
   "metadata": {},
   "outputs": [],
   "source": [
    "df = pd.DataFrame({'rounds': rounds_in_100_000_simulations_2_players, 'wars': wars_in_100_000_simulations_2_players})\n",
    "df.to_csv('simulation_results/results_2_players.csv', index=False)\n",
    "\n",
    "df = pd.DataFrame({'rounds': rounds_in_100_000_simulations_3_players, 'wars': wars_in_100_000_simulations_3_players})\n",
    "df.to_csv('simulation_results/results_3_players.csv', index=False)\n",
    "\n",
    "df = pd.DataFrame({'rounds': rounds_in_100_000_simulations_4_players, 'wars': wars_in_100_000_simulations_4_players})\n",
    "df.to_csv('simulation_results/results_4_players.csv', index=False)\n",
    "\n",
    "df = pd.DataFrame({'rounds': rounds_in_100_000_simulations_5_players, 'wars': wars_in_100_000_simulations_5_players})\n",
    "df.to_csv('simulation_results/results_5_players.csv', index=False)"
   ]
  },
  {
   "cell_type": "markdown",
   "id": "ac054a58-ce4d-4f24-aaaf-bd5257004783",
   "metadata": {},
   "source": [
    "# Analysis"
   ]
  },
  {
   "cell_type": "code",
   "execution_count": 57,
   "id": "d88abb8d-1516-4d2f-96da-07a4366f71a0",
   "metadata": {},
   "outputs": [],
   "source": [
    "import pandas as pd\n",
    "import numpy as np\n",
    "import matplotlib.pyplot as plt"
   ]
  },
  {
   "cell_type": "markdown",
   "id": "89f5d7b2-ef96-4954-98cb-c77d40927ce2",
   "metadata": {},
   "source": [
    "## Analysis - 2 players and 100 000 simulations"
   ]
  },
  {
   "cell_type": "markdown",
   "id": "1392ccb7-8fc1-4083-8388-dbb8181e3969",
   "metadata": {},
   "source": [
    "### Load simulation results"
   ]
  },
  {
   "cell_type": "code",
   "execution_count": 61,
   "id": "79faad6c-f66c-4641-9b88-fece891e6e5a",
   "metadata": {},
   "outputs": [
    {
     "data": {
      "text/html": [
       "<div>\n",
       "<style scoped>\n",
       "    .dataframe tbody tr th:only-of-type {\n",
       "        vertical-align: middle;\n",
       "    }\n",
       "\n",
       "    .dataframe tbody tr th {\n",
       "        vertical-align: top;\n",
       "    }\n",
       "\n",
       "    .dataframe thead th {\n",
       "        text-align: right;\n",
       "    }\n",
       "</style>\n",
       "<table border=\"1\" class=\"dataframe\">\n",
       "  <thead>\n",
       "    <tr style=\"text-align: right;\">\n",
       "      <th></th>\n",
       "      <th>rounds</th>\n",
       "      <th>wars</th>\n",
       "    </tr>\n",
       "  </thead>\n",
       "  <tbody>\n",
       "    <tr>\n",
       "      <th>0</th>\n",
       "      <td>325</td>\n",
       "      <td>15</td>\n",
       "    </tr>\n",
       "    <tr>\n",
       "      <th>1</th>\n",
       "      <td>192</td>\n",
       "      <td>11</td>\n",
       "    </tr>\n",
       "    <tr>\n",
       "      <th>2</th>\n",
       "      <td>1054</td>\n",
       "      <td>65</td>\n",
       "    </tr>\n",
       "    <tr>\n",
       "      <th>3</th>\n",
       "      <td>178</td>\n",
       "      <td>16</td>\n",
       "    </tr>\n",
       "    <tr>\n",
       "      <th>4</th>\n",
       "      <td>298</td>\n",
       "      <td>19</td>\n",
       "    </tr>\n",
       "  </tbody>\n",
       "</table>\n",
       "</div>"
      ],
      "text/plain": [
       "   rounds  wars\n",
       "0     325    15\n",
       "1     192    11\n",
       "2    1054    65\n",
       "3     178    16\n",
       "4     298    19"
      ]
     },
     "execution_count": 61,
     "metadata": {},
     "output_type": "execute_result"
    }
   ],
   "source": [
    "data_2_players = pd.read_csv('simulation_results/results_2_players.csv')\n",
    "data_2_players.head()"
   ]
  },
  {
   "cell_type": "markdown",
   "id": "9e03e7ee-6405-4a1f-aa42-708f65f7b4cf",
   "metadata": {},
   "source": [
    "### Show basic statistical parameters"
   ]
  },
  {
   "cell_type": "code",
   "execution_count": 64,
   "id": "c726742d-0f22-4281-8699-146dee098199",
   "metadata": {},
   "outputs": [
    {
     "data": {
      "text/html": [
       "<div>\n",
       "<style scoped>\n",
       "    .dataframe tbody tr th:only-of-type {\n",
       "        vertical-align: middle;\n",
       "    }\n",
       "\n",
       "    .dataframe tbody tr th {\n",
       "        vertical-align: top;\n",
       "    }\n",
       "\n",
       "    .dataframe thead th {\n",
       "        text-align: right;\n",
       "    }\n",
       "</style>\n",
       "<table border=\"1\" class=\"dataframe\">\n",
       "  <thead>\n",
       "    <tr style=\"text-align: right;\">\n",
       "      <th></th>\n",
       "      <th>rounds</th>\n",
       "      <th>wars</th>\n",
       "    </tr>\n",
       "  </thead>\n",
       "  <tbody>\n",
       "    <tr>\n",
       "      <th>count</th>\n",
       "      <td>100000.000000</td>\n",
       "      <td>100000.000000</td>\n",
       "    </tr>\n",
       "    <tr>\n",
       "      <th>mean</th>\n",
       "      <td>434.820260</td>\n",
       "      <td>25.675350</td>\n",
       "    </tr>\n",
       "    <tr>\n",
       "      <th>std</th>\n",
       "      <td>353.498203</td>\n",
       "      <td>20.814875</td>\n",
       "    </tr>\n",
       "    <tr>\n",
       "      <th>min</th>\n",
       "      <td>20.000000</td>\n",
       "      <td>0.000000</td>\n",
       "    </tr>\n",
       "    <tr>\n",
       "      <th>25%</th>\n",
       "      <td>186.000000</td>\n",
       "      <td>11.000000</td>\n",
       "    </tr>\n",
       "    <tr>\n",
       "      <th>50%</th>\n",
       "      <td>330.000000</td>\n",
       "      <td>20.000000</td>\n",
       "    </tr>\n",
       "    <tr>\n",
       "      <th>75%</th>\n",
       "      <td>574.000000</td>\n",
       "      <td>34.000000</td>\n",
       "    </tr>\n",
       "    <tr>\n",
       "      <th>max</th>\n",
       "      <td>4237.000000</td>\n",
       "      <td>252.000000</td>\n",
       "    </tr>\n",
       "  </tbody>\n",
       "</table>\n",
       "</div>"
      ],
      "text/plain": [
       "              rounds           wars\n",
       "count  100000.000000  100000.000000\n",
       "mean      434.820260      25.675350\n",
       "std       353.498203      20.814875\n",
       "min        20.000000       0.000000\n",
       "25%       186.000000      11.000000\n",
       "50%       330.000000      20.000000\n",
       "75%       574.000000      34.000000\n",
       "max      4237.000000     252.000000"
      ]
     },
     "execution_count": 64,
     "metadata": {},
     "output_type": "execute_result"
    }
   ],
   "source": [
    "data_2_players.describe()"
   ]
  },
  {
   "cell_type": "code",
   "execution_count": 66,
   "id": "6565f5b6-a735-4384-9ba3-1ce966f7df99",
   "metadata": {},
   "outputs": [
    {
     "data": {
      "image/png": "[encoded data removed]",
      "text/plain": [
       "<Figure size 640x480 with 1 Axes>"
      ]
     },
     "metadata": {},
     "output_type": "display_data"
    }
   ],
   "source": [
    "plt.hist(data_2_players['rounds'], bins=100, range=(0, 2500), density=False, ec=\"green\", color=\"yellow\")\n",
    "plt.show()"
   ]
  },
  {
   "cell_type": "code",
   "execution_count": 80,
   "id": "645d7386-48d7-487e-83b2-596a7f62586c",
   "metadata": {},
   "outputs": [
    {
     "data": {
      "image/png": "[encoded data removed]",
      "text/plain": [
       "<Figure size 640x480 with 1 Axes>"
      ]
     },
     "metadata": {},
     "output_type": "display_data"
    }
   ],
   "source": [
    "plt.hist(data_2_players['wars'], bins='auto', density=False, ec=\"green\", color=\"yellow\")\n",
    "plt.show()"
   ]
  }
 ],
 "metadata": {
  "kernelspec": {
   "display_name": "Python 3 (ipykernel)",
   "language": "python",
   "name": "python3"
  },
  "language_info": {
   "codemirror_mode": {
    "name": "ipython",
    "version": 3
   },
   "file_extension": ".py",
   "mimetype": "text/x-python",
   "name": "python",
   "nbconvert_exporter": "python",
   "pygments_lexer": "ipython3",
   "version": "3.12.4"
  }
 },
 "nbformat": 4,
 "nbformat_minor": 5
}

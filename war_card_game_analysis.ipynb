{
 "cells": [
  {
   "cell_type": "markdown",
   "id": "3a09ab2a-6e28-42f2-9b9b-f6828472943f",
   "metadata": {},
   "source": [
    "# War card game analysis\n",
    "Assumptions:\n",
    "- if there are n players, then there every player gets *(52 mod n)* cards and there are *(52 mod n) * n* cards in game\n",
    "- non-playing cards are chosen from the lowest ones\n",
    "\n",
    "e.g. if there are n = 3 players:\n",
    "    num_of_cards_per_player = 52 mod 3 = 17\n",
    "    num_of_cards_in_game = 17 * 3 = 51\n",
    "    deck = [2, 3, 3, 3, 3, 4, ...]\n",
    "\n",
    "Steps:\n",
    "1. Defining deck of cards and card values\n",
    "2. Defining variables for analysis: numer of rounds ...\n",
    "3. N simulations:\n",
    "    - shuffling cards and assigning them to n players (1 stack for hand and 1 stack for side cards)\n",
    "    - N loops:\n",
    "        1. move - comparison card values\n",
    "        2. if war, then: 1st move without comparison, 2nd move with comparison (check condition again - recurency)\n",
    "        3. add cards from the move to winner's side cards stack\n",
    "        4. if one of the players has all cards, then stop\n",
    "4. Analysis ..."
   ]
  },
  {
   "cell_type": "code",
   "execution_count": 5,
   "id": "cde85700-1730-483c-a323-4971a0567a0b",
   "metadata": {},
   "outputs": [],
   "source": [
    "# libraries\n",
    "import pandas as pd\n",
    "import numpy as np"
   ]
  },
  {
   "cell_type": "markdown",
   "id": "bcf274e9-96f0-4a06-89b6-0d1d1c252513",
   "metadata": {},
   "source": [
    "## Simulations"
   ]
  },
  {
   "cell_type": "code",
   "execution_count": 8,
   "id": "4d4a7c84-9bf4-47ff-97aa-fa803f4e42f1",
   "metadata": {},
   "outputs": [
    {
     "name": "stdout",
     "output_type": "stream",
     "text": [
      "[2, 3, 4, 5, 6, 7, 8, 9, 10, 11, 12, 13, 14]\n",
      "[ 2  2  2  2  3  3  3  3  4  4  4  4  5  5  5  5  6  6  6  6  7  7  7  7\n",
      "  8  8  8  8  9  9  9  9 10 10 10 10 11 11 11 11 12 12 12 12 13 13 13 13\n",
      " 14 14 14 14]\n"
     ]
    }
   ],
   "source": [
    "# Defining deck of cards and card values\n",
    "J = 11\n",
    "Q = 12\n",
    "K = 13\n",
    "A = 14\n",
    "\n",
    "card_values = list(range(2, 15))\n",
    "deck = np.array(4 * card_values)\n",
    "deck.sort()\n",
    "\n",
    "print(card_values)\n",
    "print(deck)"
   ]
  },
  {
   "cell_type": "code",
   "execution_count": 10,
   "id": "67a04c83-16eb-45c8-8c00-d1b42058bdfe",
   "metadata": {},
   "outputs": [],
   "source": [
    "def make_move(players):\n",
    "    pass"
   ]
  },
  {
   "cell_type": "code",
   "execution_count": 12,
   "id": "315ab77b-7f4f-4c7a-94fe-e0411d55f790",
   "metadata": {},
   "outputs": [],
   "source": [
    "def war_card_game_simulation(N, players_number):\n",
    "    # variables for analysis\n",
    "    rounds_in_each_simulation = []\n",
    "    players = [ {'hand': np.array(int), 'side': np.array(int)} for _ in range(players_number) ] \n",
    "    num_of_cards_in_game = 52 // players_number * players_number\n",
    "    num_of_cards_per_player = num_of_cards_in_game // players_number\n",
    "    game_over = False\n",
    "    \n",
    "    # simulations\n",
    "    for i in range(N):\n",
    "        # shuffling cards \n",
    "        shuffled_deck = np.copy(deck)\n",
    "        shuffled_deck = deck[num_of_cards_in_game:]\n",
    "        np.random.shuffle(shuffled_deck)\n",
    "\n",
    "        # assign cards to players' hands\n",
    "        for player in players:\n",
    "            player['hand'] = shuffled_deck[:num_of_cards_per_player]\n",
    "            shuffled_deck = shuffled_deck[num_of_cards_per_player:]\n",
    "            #print(player['hand'])\n",
    "\n",
    "        # game until someone wins\n",
    "        max_iter = 100\n",
    "        while not game_over:\n",
    "            make_move(players)\n",
    "    \n",
    "            for player in players:\n",
    "                if len(player['hand']) == num_of_cards_in_game:\n",
    "                    #print(len(player['hand']))\n",
    "                    game_over = True\n",
    "                    break\n",
    "                    \n",
    "            max_iter -= 1\n",
    "            if max_iter <= 0:\n",
    "                break\n",
    "    \n",
    "    return rounds_in_each_simulation"
   ]
  },
  {
   "cell_type": "code",
   "execution_count": 14,
   "id": "51cf8a6e-80db-4348-ba7c-27748607fb12",
   "metadata": {},
   "outputs": [],
   "source": [
    "rounds_in_100_simulations = war_card_game_simulation(N = 1, players_number = 2)"
   ]
  },
  {
   "cell_type": "code",
   "execution_count": null,
   "id": "5d8ca4d5-6851-493a-b957-06ec3b28bf3d",
   "metadata": {},
   "outputs": [],
   "source": []
  }
 ],
 "metadata": {
  "kernelspec": {
   "display_name": "Python 3 (ipykernel)",
   "language": "python",
   "name": "python3"
  },
  "language_info": {
   "codemirror_mode": {
    "name": "ipython",
    "version": 3
   },
   "file_extension": ".py",
   "mimetype": "text/x-python",
   "name": "python",
   "nbconvert_exporter": "python",
   "pygments_lexer": "ipython3",
   "version": "3.12.4"
  }
 },
 "nbformat": 4,
 "nbformat_minor": 5
}

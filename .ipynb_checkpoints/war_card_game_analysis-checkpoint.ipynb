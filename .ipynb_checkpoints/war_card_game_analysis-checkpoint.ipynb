{
 "cells": [
  {
   "cell_type": "markdown",
   "id": "3a09ab2a-6e28-42f2-9b9b-f6828472943f",
   "metadata": {},
   "source": [
    "# War card game analysis\n",
    "Assumptions:\n",
    "- if there are n players, then every player gets *(52 mod n)* cards and there are *(52 mod n) * n* cards in game\n",
    "- non-playing cards are chosen from the lowest ones\n",
    "- if there is a war and a player is out of cards (therefore can't continue the war), that player loses\n",
    "- if a player has no cards in a hand but has in the side stack, then cards from the side stack will be shuffled and added to player's hand\n",
    "- if a war occurs it is still counted as 1 move (no matter how long the war lasts)\n",
    "\n",
    "e.g. if there are n = 3 players:\n",
    "- num_of_cards_per_player = 52 mod 3 = 17\n",
    "- num_of_cards_in_game = 17 * 3 = 51\n",
    "- deck = [2, 3, 3, 3, 3, 4, ...]\n",
    "\n",
    "Steps:\n",
    "1. Defining deck of cards and card values\n",
    "2. Defining variables for analysis: numer of rounds ...\n",
    "3. N simulations:\n",
    "    - shuffling cards and assigning them to n players (1 stack for hand and 1 stack for side cards)\n",
    "    - N loops:\n",
    "        1. move - comparison card values\n",
    "        2. if war, then: 1st move without comparison, 2nd move with comparison (check condition again - recurency)\n",
    "        3. add cards from the move to winner's side cards stack\n",
    "        4. if one of the players has all cards, then stop\n",
    "4. Analysis ..."
   ]
  },
  {
   "cell_type": "code",
   "execution_count": 10,
   "id": "cde85700-1730-483c-a323-4971a0567a0b",
   "metadata": {},
   "outputs": [],
   "source": [
    "# libraries\n",
    "import pandas as pd\n",
    "import numpy as np\n",
    "import ipywidgets as widgets"
   ]
  },
  {
   "cell_type": "markdown",
   "id": "bcf274e9-96f0-4a06-89b6-0d1d1c252513",
   "metadata": {},
   "source": [
    "## Simulations"
   ]
  },
  {
   "cell_type": "code",
   "execution_count": 13,
   "id": "4d4a7c84-9bf4-47ff-97aa-fa803f4e42f1",
   "metadata": {},
   "outputs": [
    {
     "name": "stdout",
     "output_type": "stream",
     "text": [
      "[2, 2, 2, 2, 3, 3, 3, 3, 4, 4, 4, 4, 5, 5, 5, 5, 6, 6, 6, 6, 7, 7, 7, 7, 8, 8, 8, 8, 9, 9, 9, 9, 10, 10, 10, 10, 11, 11, 11, 11, 12, 12, 12, 12, 13, 13, 13, 13, 14, 14, 14, 14]\n"
     ]
    }
   ],
   "source": [
    "# Defining deck of cards and card values\n",
    "\"\"\"\n",
    "Jack = 11\n",
    "Queen = 12\n",
    "King = 13\n",
    "Ace = 14\n",
    "\"\"\"\n",
    "card_values = list(range(2, 15))\n",
    "deck = list(4 * card_values)\n",
    "deck.sort()\n",
    "\n",
    "print(deck)"
   ]
  },
  {
   "cell_type": "code",
   "execution_count": 15,
   "id": "8fa49af5-6448-4766-a6a0-7b1d80aeea9a",
   "metadata": {},
   "outputs": [],
   "source": [
    "def check_hands(players):\n",
    "    for i, player in enumerate(players):\n",
    "        # if hand is empty\n",
    "        if not player['hand']:\n",
    "            if player['side']:\n",
    "                # shuffle side cards and move them to the hand\n",
    "                np.random.shuffle(player['side'])\n",
    "                player['hand'], player['side'] = player['side'], []\n",
    "            else:\n",
    "                # delete player who lost (has no cards at all)\n",
    "                players.pop(i)"
   ]
  },
  {
   "cell_type": "code",
   "execution_count": 17,
   "id": "0ae5f156-e5eb-4090-a159-5a03af113ae1",
   "metadata": {},
   "outputs": [],
   "source": [
    "def make_move(players, cards_for_side, print_cards=True, ignore_values=False):\n",
    "    \"\"\"\n",
    "    players: list of players with hands and sides\n",
    "    cards_for_side: list of cards accumulated in the round that will be added to winner's side cards\n",
    "    ignore_values: used in war for cards that are reversed and their values are not taken into account\n",
    "    return: True if game over, else False\n",
    "\n",
    "    Note: works only for 2 players for now!\n",
    "    \"\"\"\n",
    "    \n",
    "    check_hands(players)\n",
    "    if len(players) <= 1:\n",
    "        return True\n",
    "        \n",
    "    # rozgrywka dla na razie 2 graczy\n",
    "    player_1_card = players[0]['hand'].pop(0)\n",
    "    player_2_card = players[1]['hand'].pop(0)\n",
    "    if print_cards:\n",
    "        with output_widget:\n",
    "            print(player_1_card, end=\"\\t\")\n",
    "            print(player_2_card)\n",
    "    cards_for_side += [player_1_card, player_2_card]\n",
    "\n",
    "    if ignore_values:\n",
    "        with output_widget:\n",
    "            print(\"(above cards are reversed)\")\n",
    "        make_move(players, cards_for_side, print_cards, False)\n",
    "    else:\n",
    "        if player_1_card > player_2_card:\n",
    "            players[0]['side'] += cards_for_side\n",
    "        elif player_1_card < player_2_card:\n",
    "            players[1]['side'] += cards_for_side\n",
    "        else:\n",
    "            \n",
    "            if print_cards:\n",
    "                with output_widget:\n",
    "                    print(\"WAAAAR!!!!!\")\n",
    "            make_move(players, cards_for_side, print_cards, True)\n",
    "    \n",
    "            \n",
    "    # return False"
   ]
  },
  {
   "cell_type": "code",
   "execution_count": 19,
   "id": "25c481d2-bc68-466f-8504-f276951c1a78",
   "metadata": {},
   "outputs": [],
   "source": [
    "def make_move_more_players(players, cards_for_side, print_cards=True, ignore_values=False):\n",
    "    \"\"\"\n",
    "    players: list of players with hands and sides (or list of players who take part in a war)\n",
    "    cards_for_side: list of cards accumulated in the round that will be added to winner's side cards\n",
    "    ignore_values: used in war for cards that are reversed and their values are not taken into account\n",
    "    return: True if game over, else False\n",
    "    \"\"\"\n",
    "    \n",
    "    check_hands(players)\n",
    "    if len(players) <= 1:\n",
    "        return True\n",
    "\n",
    "    # DEBUUGGING\n",
    "    #if print_cards:\n",
    "    #    for j, player in enumerate(players):\n",
    "   #         print(f\"{iter}: player{j+1}\\nhand: {player['hand']}\\nside: {player['side']}\")\n",
    "    #    print()\n",
    "    \n",
    "    # throw cards\n",
    "    players_cards = []\n",
    "    for player in players:\n",
    "        if player['hand']:\n",
    "            players_cards.append(player['hand'].pop(0))\n",
    "\n",
    "    \"\"\"\n",
    "    if print_cards:\n",
    "        with output_widget:\n",
    "            for card in players_cards:\n",
    "                print(card, end=\"\\t\")\n",
    "            print()\n",
    "    \"\"\"\n",
    "    cards_for_side += players_cards\n",
    "\n",
    "    # war: thrown cards are reversed, now throw cards whose values count\n",
    "    if ignore_values:\n",
    "        \"\"\"\n",
    "        with output_widget:\n",
    "            print(\"(above cards are reversed)\")\n",
    "        \"\"\"\n",
    "        make_move_more_players(players, cards_for_side, print_cards, False)\n",
    "        \n",
    "    # war: thrown cards' values count, now throw reversed cards\n",
    "    # no war: choose the winner and add accumulated cards to his side\n",
    "    else:\n",
    "        max_card_value = max(players_cards)\n",
    "\n",
    "        # war\n",
    "        if players_cards.count(max_card_value) > 1:\n",
    "            # find and save indexes of players who have a war\n",
    "            players_with_highest_cards = [i for i, value in enumerate(players_cards) if value == max_card_value]\n",
    "            players_on_war = [players[i] for i in players_with_highest_cards]\n",
    "\n",
    "            \"\"\"\n",
    "            if print_cards:\n",
    "                with output_widget:\n",
    "                    print(players_with_highest_cards)\n",
    "                    print(\"WAAAAR!!!!\")\n",
    "            \"\"\"\n",
    "            # war between specific players\n",
    "            make_move_more_players(players_on_war, cards_for_side, print_cards, True)\n",
    "            \n",
    "        # no war\n",
    "        else:\n",
    "            winner_index = players_cards.index(max_card_value)\n",
    "            players[winner_index]['side'] += cards_for_side\n",
    "    \n",
    "    return False"
   ]
  },
  {
   "cell_type": "code",
   "execution_count": 34,
   "id": "315ab77b-7f4f-4c7a-94fe-e0411d55f790",
   "metadata": {},
   "outputs": [],
   "source": [
    "def war_card_game_simulation(N, players_number, start_seed=1):\n",
    "    # variables for analysis\n",
    "    rounds_in_each_simulation = []\n",
    "    num_of_cards_in_game = 52 // players_number * players_number\n",
    "    num_of_cards_per_player = num_of_cards_in_game // players_number\n",
    "    \n",
    "    # simulations\n",
    "    for i in range(N):\n",
    "\n",
    "        \"\"\"\n",
    "        if i == 0: # print only first simulation\n",
    "            with output_widget:\n",
    "                print(f\"------------------------------------------------ {i+1}. SIMULATION ------------------------------------------------\")\n",
    "        \"\"\"\n",
    "        \n",
    "        game_over = False\n",
    "        iter = 0\n",
    "        players = [ {'hand': [], 'side': []} for _ in range(players_number) ]\n",
    "        \n",
    "        # shuffling cards \n",
    "        shuffled_deck = deck.copy()\n",
    "        shuffled_deck = deck[52-num_of_cards_in_game:]\n",
    "        np.random.seed(start_seed + i)\n",
    "        np.random.shuffle(shuffled_deck)\n",
    "\n",
    "        # assign cards to players' hands\n",
    "        for j, player in enumerate(players):\n",
    "            player['hand'] = shuffled_deck[:num_of_cards_per_player]\n",
    "            shuffled_deck = shuffled_deck[num_of_cards_per_player:]\n",
    "            \"\"\" \n",
    "            if i == 0:\n",
    "                with output_widget:\n",
    "                    print(f\"{iter}: player{j+1}\\nhand: {player['hand']}\\nside: {player['side']}\")\n",
    "        if i == 0:\n",
    "            with output_widget:\n",
    "                print()\n",
    "                \"\"\"     \n",
    "        # game until someone wins\n",
    "\n",
    "        print_cards = i == 0 # 28\n",
    "        while not game_over:\n",
    "            check_hands(players)\n",
    "            game_over = make_move_more_players(players, [], print_cards)\n",
    "            iter += 1\n",
    "            \n",
    "            \"\"\"\n",
    "            if i == 0:\n",
    "                for j, player in enumerate(players):\n",
    "                   \n",
    "                    with output_widget:\n",
    "                        print(f\"{iter}: player{j+1}\\nhand: {player['hand']}\\nside:{player['side']}\") \n",
    "                with output_widget:\n",
    "                    print()\n",
    "            \"\"\"\n",
    "        rounds_in_each_simulation.append(iter-1)\n",
    "        \n",
    "    return rounds_in_each_simulation"
   ]
  },
  {
   "cell_type": "code",
   "execution_count": 126,
   "id": "cfcbef99-7487-4360-9a8b-7dd837949a9a",
   "metadata": {},
   "outputs": [],
   "source": [
    "output_widget = widgets.Output(layout=widgets.Layout(width='100%', height='500px', overflow_y='auto')) # for printing simulation text"
   ]
  },
  {
   "cell_type": "code",
   "execution_count": 91,
   "id": "5d8ca4d5-6851-493a-b957-06ec3b28bf3d",
   "metadata": {},
   "outputs": [],
   "source": [
    "rounds_in_100_simulations = war_card_game_simulation(N = 10000, players_number = 6, start_seed=828) # 946 sie wywala"
   ]
  },
  {
   "cell_type": "code",
   "execution_count": 123,
   "id": "3c03e8b6-9add-43ec-a4bb-3a6d7ddb1055",
   "metadata": {},
   "outputs": [
    {
     "data": {
      "application/vnd.jupyter.widget-view+json": {
       "model_id": "aec3b526ed5e49c3aac9ce7425846cd2",
       "version_major": 2,
       "version_minor": 0
      },
      "text/plain": [
       "Output(layout=Layout(height='500px', overflow_y='auto', width='100%'), outputs=({'name': 'stdout', 'text': '--…"
      ]
     },
     "metadata": {},
     "output_type": "display_data"
    }
   ],
   "source": [
    "display(output_widget)"
   ]
  },
  {
   "cell_type": "code",
   "execution_count": 93,
   "id": "68009c0e-0233-44d2-8de4-71bd96b92421",
   "metadata": {},
   "outputs": [
    {
     "name": "stdout",
     "output_type": "stream",
     "text": [
      "[474, 174, 94, 51, 296, 574, 161, 71, 136, 54, 447, 1034, 293, 84, 112, 253, 201, 130, 1304, 226]\n"
     ]
    }
   ],
   "source": [
    "print(rounds_in_100_simulations[:20])"
   ]
  },
  {
   "cell_type": "code",
   "execution_count": 95,
   "id": "c1b0ecf4-69bd-4b1b-bcf7-741fb7badb93",
   "metadata": {},
   "outputs": [
    {
     "data": {
      "text/plain": [
       "10000"
      ]
     },
     "execution_count": 95,
     "metadata": {},
     "output_type": "execute_result"
    }
   ],
   "source": [
    "len(rounds_in_100_simulations)"
   ]
  },
  {
   "cell_type": "markdown",
   "id": "89f5d7b2-ef96-4954-98cb-c77d40927ce2",
   "metadata": {},
   "source": [
    "## Analysis"
   ]
  },
  {
   "cell_type": "code",
   "execution_count": 47,
   "id": "25ac16f7-d274-468b-bc4c-17016bf082a6",
   "metadata": {},
   "outputs": [],
   "source": [
    "import matplotlib.pyplot as plt"
   ]
  },
  {
   "cell_type": "code",
   "execution_count": 97,
   "id": "38b8f5e4-4729-4b07-8168-f3eae6e8d757",
   "metadata": {},
   "outputs": [
    {
     "data": {
      "text/plain": [
       "array([474, 174,  94,  51, 296, 574, 161,  71, 136,  54])"
      ]
     },
     "execution_count": 97,
     "metadata": {},
     "output_type": "execute_result"
    }
   ],
   "source": [
    "rounds_in_100_simulations = np.array(rounds_in_100_simulations)\n",
    "rounds_in_100_simulations[:10]"
   ]
  },
  {
   "cell_type": "code",
   "execution_count": 99,
   "id": "aad90ffe-91d5-4826-b3ef-5f25e97d7c30",
   "metadata": {},
   "outputs": [
    {
     "data": {
      "text/html": [
       "<div>\n",
       "<style scoped>\n",
       "    .dataframe tbody tr th:only-of-type {\n",
       "        vertical-align: middle;\n",
       "    }\n",
       "\n",
       "    .dataframe tbody tr th {\n",
       "        vertical-align: top;\n",
       "    }\n",
       "\n",
       "    .dataframe thead th {\n",
       "        text-align: right;\n",
       "    }\n",
       "</style>\n",
       "<table border=\"1\" class=\"dataframe\">\n",
       "  <thead>\n",
       "    <tr style=\"text-align: right;\">\n",
       "      <th></th>\n",
       "      <th>0</th>\n",
       "    </tr>\n",
       "  </thead>\n",
       "  <tbody>\n",
       "    <tr>\n",
       "      <th>count</th>\n",
       "      <td>10000.000000</td>\n",
       "    </tr>\n",
       "    <tr>\n",
       "      <th>mean</th>\n",
       "      <td>312.370400</td>\n",
       "    </tr>\n",
       "    <tr>\n",
       "      <th>std</th>\n",
       "      <td>260.420801</td>\n",
       "    </tr>\n",
       "    <tr>\n",
       "      <th>min</th>\n",
       "      <td>12.000000</td>\n",
       "    </tr>\n",
       "    <tr>\n",
       "      <th>25%</th>\n",
       "      <td>133.000000</td>\n",
       "    </tr>\n",
       "    <tr>\n",
       "      <th>50%</th>\n",
       "      <td>235.000000</td>\n",
       "    </tr>\n",
       "    <tr>\n",
       "      <th>75%</th>\n",
       "      <td>407.000000</td>\n",
       "    </tr>\n",
       "    <tr>\n",
       "      <th>max</th>\n",
       "      <td>2313.000000</td>\n",
       "    </tr>\n",
       "  </tbody>\n",
       "</table>\n",
       "</div>"
      ],
      "text/plain": [
       "                  0\n",
       "count  10000.000000\n",
       "mean     312.370400\n",
       "std      260.420801\n",
       "min       12.000000\n",
       "25%      133.000000\n",
       "50%      235.000000\n",
       "75%      407.000000\n",
       "max     2313.000000"
      ]
     },
     "execution_count": 99,
     "metadata": {},
     "output_type": "execute_result"
    }
   ],
   "source": [
    "df_rounds_in_100_simulations = pd.DataFrame(rounds_in_100_simulations)\n",
    "df_rounds_in_100_simulations.describe()"
   ]
  },
  {
   "cell_type": "code",
   "execution_count": 101,
   "id": "6565f5b6-a735-4384-9ba3-1ce966f7df99",
   "metadata": {},
   "outputs": [
    {
     "data": {
      "image/png": "[encoded data removed]",
      "text/plain": [
       "<Figure size 640x480 with 1 Axes>"
      ]
     },
     "metadata": {},
     "output_type": "display_data"
    }
   ],
   "source": [
    "plt.hist(rounds_in_100_simulations, bins=100, range=(0, 2500), density=False, ec=\"green\", color=\"yellow\")\n",
    "plt.show()"
   ]
  },
  {
   "cell_type": "code",
   "execution_count": 69,
   "id": "11656460-0abf-4d66-8e05-95cd0cc0a9fe",
   "metadata": {},
   "outputs": [
    {
     "ename": "SyntaxError",
     "evalue": "invalid syntax (1942629332.py, line 1)",
     "output_type": "error",
     "traceback": [
      "\u001b[0;36m  Cell \u001b[0;32mIn[69], line 1\u001b[0;36m\u001b[0m\n\u001b[0;31m    To-do:\u001b[0m\n\u001b[0m         ^\u001b[0m\n\u001b[0;31mSyntaxError\u001b[0m\u001b[0;31m:\u001b[0m invalid syntax\n"
     ]
    }
   ],
   "source": [
    "To-do:\n",
    "- naprawic symulacje dla wiekszej liczby graczy (chyba cos w funkcji make_move_more_players)\n",
    " - jeśli dodam warunek:\n",
    "    if(player['hand']):\n",
    "            players_cards.append(player['hand'].pop(0))\n",
    "    w make_move_more_players(), to wtedy nie ma problemu, ale jest potencjalny inny problem chyba: side nie jest shufflowany i dodawany do hand (w niektórych sytuacjach)\n",
    "-  w przykładzie w 93 rundzie się coś dziwnego dzieje jeśli w war_card_game_simulation() nie ma check_hands() przed make_move\n",
    "- w przykładzie jesli jest wiecej niz 6 graczy, to sie wysypuje"
   ]
  }
 ],
 "metadata": {
  "kernelspec": {
   "display_name": "Python 3 (ipykernel)",
   "language": "python",
   "name": "python3"
  },
  "language_info": {
   "codemirror_mode": {
    "name": "ipython",
    "version": 3
   },
   "file_extension": ".py",
   "mimetype": "text/x-python",
   "name": "python",
   "nbconvert_exporter": "python",
   "pygments_lexer": "ipython3",
   "version": "3.12.4"
  }
 },
 "nbformat": 4,
 "nbformat_minor": 5
}

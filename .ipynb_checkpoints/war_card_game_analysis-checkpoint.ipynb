{
 "cells": [
  {
   "cell_type": "markdown",
   "id": "3a09ab2a-6e28-42f2-9b9b-f6828472943f",
   "metadata": {},
   "source": [
    "# War card game analysis\n",
    "Assumptions:\n",
    "- if there are n players, then every player gets *(52 mod n)* cards and there are *(52 mod n) * n* cards in game\n",
    "- non-playing cards are chosen from the lowest ones\n",
    "- if there is a war and a player is out of cards (therefore can't continue the war), that player loses\n",
    "- if a player has no cards in a hand but has in the side stack, then cards from the side stack will be shuffled and added to player's hand\n",
    "- if a war occurs it is still counted as 1 move (no matter how long the war lasts)\n",
    "\n",
    "e.g. if there are n = 3 players:\n",
    "- num_of_cards_per_player = 52 mod 3 = 17\n",
    "- num_of_cards_in_game = 17 * 3 = 51\n",
    "- deck = [2, 3, 3, 3, 3, 4, ...]"
   ]
  },
  {
   "cell_type": "code",
   "execution_count": 3,
   "id": "cde85700-1730-483c-a323-4971a0567a0b",
   "metadata": {},
   "outputs": [],
   "source": [
    "# libraries\n",
    "import pandas as pd\n",
    "import numpy as np\n",
    "import ipywidgets as widgets\n",
    "import matplotlib.pyplot as plt"
   ]
  },
  {
   "cell_type": "markdown",
   "id": "bcf274e9-96f0-4a06-89b6-0d1d1c252513",
   "metadata": {},
   "source": [
    "## Simulations"
   ]
  },
  {
   "cell_type": "code",
   "execution_count": 4,
   "id": "4d4a7c84-9bf4-47ff-97aa-fa803f4e42f1",
   "metadata": {},
   "outputs": [
    {
     "name": "stdout",
     "output_type": "stream",
     "text": [
      "[2, 2, 2, 2, 3, 3, 3, 3, 4, 4, 4, 4, 5, 5, 5, 5, 6, 6, 6, 6, 7, 7, 7, 7, 8, 8, 8, 8, 9, 9, 9, 9, 10, 10, 10, 10, 11, 11, 11, 11, 12, 12, 12, 12, 13, 13, 13, 13, 14, 14, 14, 14]\n"
     ]
    }
   ],
   "source": [
    "# Defining deck of cards and card values\n",
    "\"\"\"\n",
    "Jack = 11\n",
    "Queen = 12\n",
    "King = 13\n",
    "Ace = 14\n",
    "\"\"\"\n",
    "card_values = list(range(2, 15))\n",
    "deck = list(4 * card_values)\n",
    "deck.sort()\n",
    "\n",
    "print(deck)"
   ]
  },
  {
   "cell_type": "code",
   "execution_count": 5,
   "id": "8fa49af5-6448-4766-a6a0-7b1d80aeea9a",
   "metadata": {},
   "outputs": [],
   "source": [
    "def check_hands(players):\n",
    "    to_remove = []\n",
    "    \n",
    "    for i, player in enumerate(players):\n",
    "        \n",
    "        # if hand is empty\n",
    "        if len(player['hand']) < 1:\n",
    "            \n",
    "            if len(player['side']) > 0:\n",
    "                # shuffle side cards and move them to the hand\n",
    "                np.random.shuffle(player['side'])\n",
    "                player['hand'], player['side'] = player['side'], []\n",
    "            else:\n",
    "                # save index of player who lost (has no cards at all)\n",
    "                to_remove.append(i)\n",
    "\n",
    "    # remove players who lost\n",
    "    for i in reversed(to_remove):\n",
    "        players.pop(i)"
   ]
  },
  {
   "cell_type": "code",
   "execution_count": 6,
   "id": "25c481d2-bc68-466f-8504-f276951c1a78",
   "metadata": {},
   "outputs": [],
   "source": [
    "def make_move(players, cards_for_side, print_cards=True, ignore_values=False):\n",
    "    \"\"\"\n",
    "    players: list of players with hands and sides (or list of players who take part in a war)\n",
    "    cards_for_side: list of cards accumulated in the round that will be added to winner's side cards\n",
    "    ignore_values: used in war for cards that are reversed and their values are not taken into account\n",
    "    return: True if game over, else False\n",
    "    \"\"\"\n",
    "    \n",
    "    check_hands(players)\n",
    "    if len(players) <= 1:\n",
    "        return True\n",
    "\n",
    "    # throw cards\n",
    "    players_cards = []\n",
    "    for player in players:\n",
    "        players_cards.append(player['hand'].pop(0))\n",
    "\n",
    "    # uncomment to print output\n",
    "    if print_cards:\n",
    "        with output_widget:\n",
    "            for card in players_cards:\n",
    "                print(card, end=\"\\t\")\n",
    "            print()\n",
    "    \n",
    "    cards_for_side += players_cards\n",
    "\n",
    "    # war: thrown cards are reversed, now throw cards whose values count\n",
    "    if ignore_values:\n",
    "\n",
    "        # uncomment to print output\n",
    "        with output_widget:\n",
    "            print(\"(above cards are reversed)\")\n",
    "        \n",
    "        make_move(players, cards_for_side, print_cards, False)\n",
    "        \n",
    "    # war: thrown cards' values count, now throw reversed cards\n",
    "    # no war: choose the winner and add accumulated cards to his side\n",
    "    else:\n",
    "        max_card_value = max(players_cards)\n",
    "            \n",
    "        # war\n",
    "        if players_cards.count(max_card_value) > 1:\n",
    "            # find and save indexes of players who have a war\n",
    "            players_with_highest_cards = [i for i, value in enumerate(players_cards) if value == max_card_value]\n",
    "            players_on_war = [players[i] for i in players_with_highest_cards]\n",
    "\n",
    "            # uncomment to print output\n",
    "            if print_cards:\n",
    "                with output_widget:\n",
    "                    print(\"players on war: \", end=\"\")\n",
    "                    print([x+1 for x in players_with_highest_cards])\n",
    "                    print(\"WAAAAR!!!!\")\n",
    "            \n",
    "            \n",
    "            # war between specific players\n",
    "            make_move(players_on_war, cards_for_side, print_cards, True)\n",
    "            \n",
    "        # no war\n",
    "        else:\n",
    "            winner_index = players_cards.index(max_card_value)\n",
    "            players[winner_index]['side'] += cards_for_side\n",
    "    \n",
    "    return False"
   ]
  },
  {
   "cell_type": "code",
   "execution_count": 7,
   "id": "14496575-2bce-40ea-9ded-cc4df3dd5a68",
   "metadata": {},
   "outputs": [],
   "source": [
    "def deal_cards(players_number, seed=1):\n",
    "    num_of_cards_in_game = 52 // players_number * players_number\n",
    "    num_of_cards_per_player = num_of_cards_in_game // players_number\n",
    "\n",
    "    players = [ {'hand': [], 'side': []} for _ in range(players_number) ]\n",
    "        \n",
    "    # shuffle cards \n",
    "    shuffled_deck = deck.copy()\n",
    "    shuffled_deck = deck[52-num_of_cards_in_game:]\n",
    "    np.random.seed(seed)\n",
    "    np.random.shuffle(shuffled_deck)\n",
    "\n",
    "    # deal cards to players\n",
    "    for j, player in enumerate(players):\n",
    "        player['hand'] = shuffled_deck[:num_of_cards_per_player]\n",
    "        shuffled_deck = shuffled_deck[num_of_cards_per_player:]\n",
    "        # uncomment to print output\n",
    "        with output_widget:\n",
    "            print(f\"start state: player{j+1}\\nhand: {player['hand']}\\nside: {player['side']}\")\n",
    "        with output_widget:\n",
    "            print()\n",
    "        \n",
    "    return players"
   ]
  },
  {
   "cell_type": "code",
   "execution_count": 8,
   "id": "315ab77b-7f4f-4c7a-94fe-e0411d55f790",
   "metadata": {},
   "outputs": [],
   "source": [
    "def war_card_game_simulation(N, players_number, start_seed=1):\n",
    "    # variables\n",
    "    rounds_in_each_simulation = []\n",
    "    \n",
    "    # simulations\n",
    "    for i in range(N):\n",
    "        # uncomment to print output\n",
    "        if i == 0: # print only first simulation\n",
    "            with output_widget:\n",
    "                print(f\"------------------------------------------------ {i+1}. SIMULATION ------------------------------------------------\")\n",
    "        \n",
    "        \n",
    "        players = deal_cards(players_number, seed=start_seed+i)\n",
    "        game_over = False\n",
    "        iter = 0\n",
    "        print_cards = i == 0\n",
    "        \n",
    "        # game until someone wins\n",
    "        while not game_over:\n",
    "            game_over = make_move(players, [], print_cards)\n",
    "            iter += 1\n",
    "            # uncomment to print output\n",
    "            if i == 0:\n",
    "                with output_widget:\n",
    "                    print(f\"after {iter}. round:\")\n",
    "                    for j, player in enumerate(players):    \n",
    "                        print(f\"player{j+1}\\nhand: {player['hand']}\\nside:{player['side']}\") \n",
    "                    print()\n",
    "            \n",
    "        rounds_in_each_simulation.append(iter-1)\n",
    "        \n",
    "    return rounds_in_each_simulation"
   ]
  },
  {
   "cell_type": "code",
   "execution_count": 9,
   "id": "cfcbef99-7487-4360-9a8b-7dd837949a9a",
   "metadata": {},
   "outputs": [],
   "source": [
    "output_widget = widgets.Output(layout=widgets.Layout(width='100%', height='1000px', overflow_y='auto')) # for printing simulation text"
   ]
  },
  {
   "cell_type": "code",
   "execution_count": 10,
   "id": "5d8ca4d5-6851-493a-b957-06ec3b28bf3d",
   "metadata": {},
   "outputs": [],
   "source": [
    "rounds_in_10000_simulations = war_card_game_simulation(N = 1, players_number = 3, start_seed=2) # 946 sie wywala"
   ]
  },
  {
   "cell_type": "code",
   "execution_count": 11,
   "id": "3c03e8b6-9add-43ec-a4bb-3a6d7ddb1055",
   "metadata": {
    "scrolled": true
   },
   "outputs": [
    {
     "data": {
      "application/vnd.jupyter.widget-view+json": {
       "model_id": "3923dde702f1433b929bba8a51a5c1df",
       "version_major": 2,
       "version_minor": 0
      },
      "text/plain": [
       "Output(layout=Layout(height='1000px', width='100%'), outputs=({'name': 'stdout', 'text': '--------------------…"
      ]
     },
     "metadata": {},
     "output_type": "display_data"
    }
   ],
   "source": [
    "display(output_widget)"
   ]
  },
  {
   "cell_type": "code",
   "execution_count": 12,
   "id": "68009c0e-0233-44d2-8de4-71bd96b92421",
   "metadata": {},
   "outputs": [
    {
     "name": "stdout",
     "output_type": "stream",
     "text": [
      "[444]\n"
     ]
    }
   ],
   "source": [
    "print(rounds_in_10000_simulations[:20])"
   ]
  },
  {
   "cell_type": "code",
   "execution_count": 13,
   "id": "c1b0ecf4-69bd-4b1b-bcf7-741fb7badb93",
   "metadata": {},
   "outputs": [
    {
     "data": {
      "text/plain": [
       "1"
      ]
     },
     "execution_count": 13,
     "metadata": {},
     "output_type": "execute_result"
    }
   ],
   "source": [
    "len(rounds_in_10000_simulations)"
   ]
  },
  {
   "cell_type": "markdown",
   "id": "89f5d7b2-ef96-4954-98cb-c77d40927ce2",
   "metadata": {},
   "source": [
    "## Analysis"
   ]
  },
  {
   "cell_type": "code",
   "execution_count": 14,
   "id": "38b8f5e4-4729-4b07-8168-f3eae6e8d757",
   "metadata": {},
   "outputs": [
    {
     "data": {
      "text/plain": [
       "array([444])"
      ]
     },
     "execution_count": 14,
     "metadata": {},
     "output_type": "execute_result"
    }
   ],
   "source": [
    "rounds_in_10000_simulations = np.array(rounds_in_10000_simulations)\n",
    "rounds_in_10000_simulations[:10]"
   ]
  },
  {
   "cell_type": "code",
   "execution_count": 15,
   "id": "aad90ffe-91d5-4826-b3ef-5f25e97d7c30",
   "metadata": {},
   "outputs": [
    {
     "data": {
      "text/html": [
       "<div>\n",
       "<style scoped>\n",
       "    .dataframe tbody tr th:only-of-type {\n",
       "        vertical-align: middle;\n",
       "    }\n",
       "\n",
       "    .dataframe tbody tr th {\n",
       "        vertical-align: top;\n",
       "    }\n",
       "\n",
       "    .dataframe thead th {\n",
       "        text-align: right;\n",
       "    }\n",
       "</style>\n",
       "<table border=\"1\" class=\"dataframe\">\n",
       "  <thead>\n",
       "    <tr style=\"text-align: right;\">\n",
       "      <th></th>\n",
       "      <th>0</th>\n",
       "    </tr>\n",
       "  </thead>\n",
       "  <tbody>\n",
       "    <tr>\n",
       "      <th>count</th>\n",
       "      <td>1.0</td>\n",
       "    </tr>\n",
       "    <tr>\n",
       "      <th>mean</th>\n",
       "      <td>444.0</td>\n",
       "    </tr>\n",
       "    <tr>\n",
       "      <th>std</th>\n",
       "      <td>NaN</td>\n",
       "    </tr>\n",
       "    <tr>\n",
       "      <th>min</th>\n",
       "      <td>444.0</td>\n",
       "    </tr>\n",
       "    <tr>\n",
       "      <th>25%</th>\n",
       "      <td>444.0</td>\n",
       "    </tr>\n",
       "    <tr>\n",
       "      <th>50%</th>\n",
       "      <td>444.0</td>\n",
       "    </tr>\n",
       "    <tr>\n",
       "      <th>75%</th>\n",
       "      <td>444.0</td>\n",
       "    </tr>\n",
       "    <tr>\n",
       "      <th>max</th>\n",
       "      <td>444.0</td>\n",
       "    </tr>\n",
       "  </tbody>\n",
       "</table>\n",
       "</div>"
      ],
      "text/plain": [
       "           0\n",
       "count    1.0\n",
       "mean   444.0\n",
       "std      NaN\n",
       "min    444.0\n",
       "25%    444.0\n",
       "50%    444.0\n",
       "75%    444.0\n",
       "max    444.0"
      ]
     },
     "execution_count": 15,
     "metadata": {},
     "output_type": "execute_result"
    }
   ],
   "source": [
    "df_rounds_in_10000_simulations = pd.DataFrame(rounds_in_10000_simulations)\n",
    "df_rounds_in_10000_simulations.describe()"
   ]
  },
  {
   "cell_type": "code",
   "execution_count": 16,
   "id": "6565f5b6-a735-4384-9ba3-1ce966f7df99",
   "metadata": {},
   "outputs": [
    {
     "data": {
      "image/png": "[encoded data removed]",
      "text/plain": [
       "<Figure size 640x480 with 1 Axes>"
      ]
     },
     "metadata": {},
     "output_type": "display_data"
    }
   ],
   "source": [
    "plt.hist(rounds_in_10000_simulations, bins=100, range=(0, 2500), density=False, ec=\"green\", color=\"yellow\")\n",
    "plt.show()"
   ]
  },
  {
   "cell_type": "code",
   "execution_count": 17,
   "id": "cccea658-9d65-4ea1-bb3d-2a827e8349a9",
   "metadata": {},
   "outputs": [],
   "source": [
    "# pomysły\n",
    "# - jakie jest prawdopodobieństwo wygranej, jeśli w rozdaniu gracz otrzyma np. trzy asy\n",
    "# (np. dodać argument do funkcji symulacji, w którym piszemy, dla jakich kart chcemy sprzawdzic warunek [14, 14, 14]\n",
    "# i dalej zrobić np. 100 tys symulacji\n",
    "# inne:\n",
    "# - co w sytuacji, jeśli np. 3 graczy da największe karty takie same i prowadzi wojnę, ale wszystkim kończą się karty i żaden nie ma kart na kontynuację\n",
    "# kto wtedy powinien wziąc karty ze stołu? ci co nie grali w wojnę, ale mieli niższe karty? czy przetasowanie kart u każdego?"
   ]
  }
 ],
 "metadata": {
  "kernelspec": {
   "display_name": "Python 3 (ipykernel)",
   "language": "python",
   "name": "python3"
  },
  "language_info": {
   "codemirror_mode": {
    "name": "ipython",
    "version": 3
   },
   "file_extension": ".py",
   "mimetype": "text/x-python",
   "name": "python",
   "nbconvert_exporter": "python",
   "pygments_lexer": "ipython3",
   "version": "3.12.8"
  }
 },
 "nbformat": 4,
 "nbformat_minor": 5
}
